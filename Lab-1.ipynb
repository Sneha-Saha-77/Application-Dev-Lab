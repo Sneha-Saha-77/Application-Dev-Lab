{
 "cells": [
  {
   "cell_type": "markdown",
   "id": "f2a34778-5383-47d9-ad52-ee47ccfb4a20",
   "metadata": {},
   "source": [
    "#first- data types"
   ]
  },
  {
   "cell_type": "code",
   "execution_count": 4,
   "id": "a1029de1-791a-4a3d-a371-8b6af758334d",
   "metadata": {},
   "outputs": [
    {
     "name": "stdout",
     "output_type": "stream",
     "text": [
      "20\n",
      "(7+3j)\n"
     ]
    }
   ],
   "source": [
    "a= 20; print(a);\n",
    "b= 7+3j;\n",
    "print(b);"
   ]
  },
  {
   "cell_type": "code",
   "execution_count": 8,
   "id": "1c009b55-d8f7-4a77-bcab-fe0b7853580f",
   "metadata": {},
   "outputs": [
    {
     "name": "stdout",
     "output_type": "stream",
     "text": [
      "Khek \n",
      " Khek \n",
      " Khek\n"
     ]
    }
   ],
   "source": [
    "s1= \"Khek\"\n",
    "s2= 'Khek'\n",
    "s3= \"\"\"Khek\"\"\"\n",
    "print(s1,\"\\n\",s2,\"\\n\",s3)"
   ]
  },
  {
   "cell_type": "code",
   "execution_count": 25,
   "id": "7869e8c9-63ef-461d-b19a-6fc758d550a5",
   "metadata": {},
   "outputs": [
    {
     "name": "stdout",
     "output_type": "stream",
     "text": [
      "<class 'str'>\n",
      "<class 'complex'>\n"
     ]
    }
   ],
   "source": [
    "x= 'true'\n",
    "print(type(x))\n",
    "print(type(b))"
   ]
  },
  {
   "cell_type": "code",
   "execution_count": 27,
   "id": "9f0797f6-a39e-4702-bb33-45d14d7e3253",
   "metadata": {},
   "outputs": [
    {
     "name": "stdout",
     "output_type": "stream",
     "text": [
      "243\n"
     ]
    }
   ],
   "source": [
    "z= 3**5;\n",
    "print(z)"
   ]
  },
  {
   "cell_type": "code",
   "execution_count": 51,
   "id": "a610cbcf-c6db-4561-b2bb-5b0f3181f5dc",
   "metadata": {},
   "outputs": [
    {
     "name": "stdout",
     "output_type": "stream",
     "text": [
      "[1, 3, 67, 'khek', 4.88]\n",
      "(1, 3, 67, 'khek', 4.88)\n",
      "{1: 34, 2: 'Name', 3: 3.45}\n",
      "3.45\n",
      "[1, 3, 67, 'khek', 4.88, 7]\n",
      "(1, 3, 67, 'khek', 4.88)\n",
      "{2: 'Name', 3: 3.45}\n"
     ]
    }
   ],
   "source": [
    "#list, dictionary, tuples for ML\n",
    "#1. List\n",
    "listie= [1, 3, 67, \"khek\", 4.88]\n",
    "print(listie)\n",
    "\n",
    "#2. Tuples\n",
    "tup= (1, 3, 67, \"khek\", 4.88)\n",
    "print(tup)\n",
    "\n",
    "#3. Dictionary\n",
    "dittie= {1: 34, 2: \"Name\", 3: 3.45}\n",
    "print(dittie)\n",
    "print(dittie[3])\n",
    "\n",
    "#manipulations on list, tuple, dictionary\n",
    "#tuples are unchangeable\n",
    "listie.append(7)\n",
    "del dittie[1]\n",
    "print(listie)\n",
    "print(tup)\n",
    "print(dittie)"
   ]
  },
  {
   "cell_type": "code",
   "execution_count": null,
   "id": "5b3755bd-9668-4043-b565-e6e9ec55415e",
   "metadata": {},
   "outputs": [],
   "source": [
    "#1. WAP to print biodata using python, dictionary\n",
    "#2. Two elements swapping in a list\n",
    "#3. Ways to check if an element exists in a list\n",
    "#4. Find smallest and largest in a list\n",
    "#5. Print all even numbers in a tuple\n",
    "#6. Print positive numbers of a tuple"
   ]
  }
 ],
 "metadata": {
  "kernelspec": {
   "display_name": "Python [conda env:base] *",
   "language": "python",
   "name": "conda-base-py"
  },
  "language_info": {
   "codemirror_mode": {
    "name": "ipython",
    "version": 3
   },
   "file_extension": ".py",
   "mimetype": "text/x-python",
   "name": "python",
   "nbconvert_exporter": "python",
   "pygments_lexer": "ipython3",
   "version": "3.12.7"
  }
 },
 "nbformat": 4,
 "nbformat_minor": 5
}
