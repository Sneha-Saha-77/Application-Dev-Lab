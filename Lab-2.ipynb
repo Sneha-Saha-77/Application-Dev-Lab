{
 "cells": [
  {
   "cell_type": "code",
   "execution_count": 3,
   "id": "865e174b-6841-49d1-ab04-28c607014591",
   "metadata": {},
   "outputs": [
    {
     "name": "stdin",
     "output_type": "stream",
     "text": [
      "Enter the character:  F\n"
     ]
    },
    {
     "name": "stdout",
     "output_type": "stream",
     "text": [
      "The ASCII value is:  70\n"
     ]
    }
   ],
   "source": [
    "#1. ASCII Values of characters\n",
    "char = input(\"Enter the character: \")\n",
    "print(\"The ASCII value is: \", ord(char))"
   ]
  },
  {
   "cell_type": "code",
   "execution_count": 31,
   "id": "6cc42931-299a-4ff8-86ef-f692aea8551c",
   "metadata": {},
   "outputs": [
    {
     "name": "stdin",
     "output_type": "stream",
     "text": [
      "Enter a number from 1-10:  5\n"
     ]
    },
    {
     "name": "stdout",
     "output_type": "stream",
     "text": [
      "1 \n",
      "1 2 \n",
      "1 2 3 \n",
      "1 2 3 4 \n",
      "1 2 3 4 5 \n"
     ]
    }
   ],
   "source": [
    "#2. Printing pattern\n",
    "rows = int(input(\"Enter a number from 1-10: \"))\n",
    "for i in range(1, rows + 1):\n",
    "    for j in range(1, i + 1):\n",
    "        print(j, end=' ')\n",
    "    print('')\n"
   ]
  },
  {
   "cell_type": "code",
   "execution_count": 33,
   "id": "95f8c2a5-dd96-44e7-af22-271777e49c2e",
   "metadata": {},
   "outputs": [
    {
     "name": "stdin",
     "output_type": "stream",
     "text": [
      "Enter the lower limit of the range:  400\n",
      "Enter the upper limit of the range:  500\n"
     ]
    },
    {
     "name": "stdout",
     "output_type": "stream",
     "text": [
      "Prime numbers between  400  and  500  are:\n",
      "401\n",
      "409\n",
      "419\n",
      "421\n",
      "431\n",
      "433\n",
      "439\n",
      "443\n",
      "449\n",
      "457\n",
      "461\n",
      "463\n",
      "467\n",
      "479\n",
      "487\n",
      "491\n",
      "499\n"
     ]
    }
   ],
   "source": [
    "#3. Prime numbers in a range\n",
    "low = int(input(\"Enter the lower limit of the range: \"))\n",
    "high = int(input(\"Enter the upper limit of the range: \"))\n",
    "\n",
    "print(\"Prime numbers between \", low, \" and \", high, \" are:\")\n",
    "\n",
    "for num in range(low, high + 1):\n",
    "   if num > 1:\n",
    "       for i in range(2, num):\n",
    "           if (num % i) == 0:\n",
    "               break\n",
    "       else:\n",
    "           print(num)"
   ]
  },
  {
   "cell_type": "code",
   "execution_count": 55,
   "id": "cdb6a7a3-aed0-469e-9461-90fc9f0ea1ae",
   "metadata": {},
   "outputs": [
    {
     "name": "stdout",
     "output_type": "stream",
     "text": [
      "Oh look a strawberry!\n",
      "meow meow meow meow\n"
     ]
    }
   ],
   "source": [
    "#4. Assign diff name to function and recall it\n",
    "def huehue(st):\n",
    "    print(st)\n",
    "    \n",
    "huehue(\"Oh look a strawberry!\")\n",
    "new= huehue\n",
    "new(\"meow meow meow meow\")"
   ]
  },
  {
   "cell_type": "code",
   "execution_count": 45,
   "id": "b42ef485-c063-436f-a8ff-117f12e0e21d",
   "metadata": {},
   "outputs": [
    {
     "name": "stdin",
     "output_type": "stream",
     "text": [
      "Enter a sentence:  etvhbloi HDDSthuhuh TDTST\n"
     ]
    },
    {
     "name": "stdout",
     "output_type": "stream",
     "text": [
      "Rearranged string:   etvhbloithuhuh HDDSTDTST\n"
     ]
    }
   ],
   "source": [
    "#5. lowercase before uppercase\n",
    "s = input(\"Enter a sentence: \")\n",
    "u = ' '\n",
    "v = ' '\n",
    "for char in s:\n",
    "    if (char.isupper()):\n",
    "        v+= char\n",
    "    if (char.islower()):\n",
    "        u+= char\n",
    "\n",
    "new= u+v\n",
    "print(\"Rearranged string: \", new)"
   ]
  },
  {
   "cell_type": "code",
   "execution_count": 47,
   "id": "0b716c66-420a-48fc-815f-89af5a60e20c",
   "metadata": {},
   "outputs": [
    {
     "name": "stdin",
     "output_type": "stream",
     "text": [
      "Enter a tring :  udguy72832hd @##hc hfg*& FDR\n"
     ]
    },
    {
     "name": "stdout",
     "output_type": "stream",
     "text": [
      "Alpahbets:  15\n",
      "Digits:  5\n",
      "Special characters:  8\n"
     ]
    }
   ],
   "source": [
    "#6. Counting letters, digits, special characters\n",
    "string = input(\"Enter a tring : \")\n",
    "alphabets = digits = special = 0\n",
    "\n",
    "for i in string:\n",
    "    if(i.isalpha()):\n",
    "        alphabets += 1\n",
    "    elif(i.isdigit()):\n",
    "        digits += 1\n",
    "    else:\n",
    "        special += 1\n",
    "        \n",
    "print(\"Alpahbets: \", alphabets)\n",
    "print(\"Digits: \", digits)\n",
    "print(\"Special characters: \", special)"
   ]
  },
  {
   "cell_type": "code",
   "execution_count": 53,
   "id": "d7bf61b8-cbff-4ad3-85b6-e352fd28a4b8",
   "metadata": {},
   "outputs": [
    {
     "name": "stdout",
     "output_type": "stream",
     "text": [
      "List before removing empty strings:  ['jfdg', '   ', '123', '5642ths', ' ', '56.99']\n",
      "List after removing empty strings:  ['jfdg', '123', '5642ths', '56.99']\n"
     ]
    }
   ],
   "source": [
    "#7. Remove empty strings\n",
    "string = [\"jfdg\", \"   \", \"123\", \"5642ths\", \" \", \"56.99\"]\n",
    "print(\"List before removing empty strings: \", string)\n",
    "\n",
    "for x in string:\n",
    "    if (x.isspace()):\n",
    "        string.remove(x)\n",
    "\n",
    "print(\"List after removing empty strings: \", string)"
   ]
  },
  {
   "cell_type": "code",
   "execution_count": 61,
   "id": "bcce17d9-07d3-47ed-837e-96f7905d0114",
   "metadata": {},
   "outputs": [
    {
     "name": "stdout",
     "output_type": "stream",
     "text": [
      "Original lists: \n",
      "[123, 'fhba', 78.99, 4, -99]\n",
      "['huehue', 'jhgdg', '  ', 65, 8]\n",
      "Resultant list:  ['123huehue', 'fhbajhgdg', '78.99  ', '465', '-998']\n"
     ]
    }
   ],
   "source": [
    "#8. Concatenate two lists index wise\n",
    "list1 = [123, \"fhba\", 78.99, 4, -99]\n",
    "list2 = [\"huehue\", \"jhgdg\", \"  \", 65, 8]\n",
    "result = []\n",
    "for i in range(len(list1)):\n",
    "    result.append(str(list1[i]) + str(list2[i]))\n",
    "\n",
    "print(\"Original lists: \")\n",
    "print(list1)\n",
    "print(list2)\n",
    "print(\"Resultant list: \", result)"
   ]
  },
  {
   "cell_type": "code",
   "execution_count": 63,
   "id": "737a0e3d-b651-423c-a755-e25b1e069731",
   "metadata": {},
   "outputs": [
    {
     "name": "stdout",
     "output_type": "stream",
     "text": [
      "List:  [11, 2, 3, 4, 2, 2, 3, 46, 72, 33, 2, 4, 89]\n"
     ]
    },
    {
     "name": "stdin",
     "output_type": "stream",
     "text": [
      "Enter element to remove:  2\n"
     ]
    },
    {
     "name": "stdout",
     "output_type": "stream",
     "text": [
      "New list:  [11, 3, 4, 3, 46, 72, 33, 4, 89]\n"
     ]
    }
   ],
   "source": [
    "#9. Remove all occurrences of an item in list\n",
    "x = [11, 2, 3, 4, 2, 2, 3, 46, 72, 33, 2, 4, 89]\n",
    "print(\"List: \", x)\n",
    "y= int(input(\"Enter element to remove: \"))\n",
    "\n",
    "while y in x: \n",
    "    x.remove(y)\n",
    "\n",
    "print(\"New list: \", x)"
   ]
  },
  {
   "cell_type": "code",
   "execution_count": 67,
   "id": "f4e50c1b-f9ec-4c27-9c36-e6411de15178",
   "metadata": {},
   "outputs": [
    {
     "name": "stdout",
     "output_type": "stream",
     "text": [
      "20 found at index:  5\n"
     ]
    }
   ],
   "source": [
    "#10. Access value 20 from a tuple\n",
    "x = (11, 2, 3, 4, 2, 20, 3, 46, 72, 33, 2, 4, 89)\n",
    "if 20 in x:\n",
    "    print(\"20 found at index: \", x.index(20))\n",
    "else:\n",
    "    print(\"20 not found!\")"
   ]
  },
  {
   "cell_type": "code",
   "execution_count": 69,
   "id": "9314d1f4-6fa0-4c25-b442-564120dec3b8",
   "metadata": {},
   "outputs": [
    {
     "name": "stdout",
     "output_type": "stream",
     "text": [
      "Original tuple:  (11, 2.67, 3, 4, 1.32, 20, 3, 46, 72, 33, 2, 4, 89, 90.4, 2.4)\n",
      "Copied tuple:  (4, 1.32, 20, 3, 46, 72)\n"
     ]
    }
   ],
   "source": [
    "#11. Copy specific elements from one tuple to another\n",
    "x = (11, 2.67, 3, 4, 1.32, 20, 3, 46, 72, 33, 2, 4, 89, 90.4, 2.4)\n",
    "print(\"Original tuple: \", x)\n",
    "y = tuple(x[3:9])\n",
    "print(\"Copied tuple: \", y)"
   ]
  }
 ],
 "metadata": {
  "kernelspec": {
   "display_name": "Python [conda env:base] *",
   "language": "python",
   "name": "conda-base-py"
  },
  "language_info": {
   "codemirror_mode": {
    "name": "ipython",
    "version": 3
   },
   "file_extension": ".py",
   "mimetype": "text/x-python",
   "name": "python",
   "nbconvert_exporter": "python",
   "pygments_lexer": "ipython3",
   "version": "3.12.7"
  }
 },
 "nbformat": 4,
 "nbformat_minor": 5
}
